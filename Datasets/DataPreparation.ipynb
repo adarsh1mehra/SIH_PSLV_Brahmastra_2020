{
  "nbformat": 4,
  "nbformat_minor": 0,
  "metadata": {
    "colab": {
      "name": "Copy of ocr training.ipynb",
      "provenance": [],
      "collapsed_sections": []
    },
    "kernelspec": {
      "name": "python3",
      "display_name": "Python 3"
    },
    "accelerator": "GPU"
  },
  "cells": [
    {
      "cell_type": "code",
      "metadata": {
        "id": "I6wDr0pR_dnB",
        "colab_type": "code",
        "colab": {
          "base_uri": "https://localhost:8080/",
          "height": 35
        },
        "outputId": "1cc387d5-7b1a-4014-fa8e-f2444a0bda30"
      },
      "source": [
        "from google.colab import drive\n",
        "drive.mount('/content/gdrive')"
      ],
      "execution_count": null,
      "outputs": [
        {
          "output_type": "stream",
          "text": [
            "Drive already mounted at /content/gdrive; to attempt to forcibly remount, call drive.mount(\"/content/gdrive\", force_remount=True).\n"
          ],
          "name": "stdout"
        }
      ]
    },
    {
      "cell_type": "code",
      "metadata": {
        "id": "Afl0Tet4kAey",
        "colab_type": "code",
        "colab": {
          "base_uri": "https://localhost:8080/",
          "height": 54
        },
        "outputId": "e444ce14-459a-462b-be95-78fae702013d"
      },
      "source": [
        "cd gdrive"
      ],
      "execution_count": null,
      "outputs": [
        {
          "output_type": "stream",
          "text": [
            "[Errno 2] No such file or directory: 'gdrive'\n",
            "/content/gdrive/My Drive/Isro Data\n"
          ],
          "name": "stdout"
        }
      ]
    },
    {
      "cell_type": "code",
      "metadata": {
        "id": "qLBNG_e8kDvL",
        "colab_type": "code",
        "colab": {
          "base_uri": "https://localhost:8080/",
          "height": 54
        },
        "outputId": "a5afedd1-7d0f-4745-c05d-0287b92ce185"
      },
      "source": [
        "cd My Drive"
      ],
      "execution_count": null,
      "outputs": [
        {
          "output_type": "stream",
          "text": [
            "[Errno 2] No such file or directory: 'My Drive'\n",
            "/content/gdrive/My Drive/Isro Data\n"
          ],
          "name": "stdout"
        }
      ]
    },
    {
      "cell_type": "code",
      "metadata": {
        "id": "cR3bUSjVttpr",
        "colab_type": "code",
        "colab": {
          "base_uri": "https://localhost:8080/",
          "height": 90
        },
        "outputId": "93f301be-9ea8-4c30-fa02-155a3047d4e1"
      },
      "source": [
        "ls"
      ],
      "execution_count": null,
      "outputs": [
        {
          "output_type": "stream",
          "text": [
            " \u001b[0m\u001b[01;36mcollege\u001b[0m@         govtoffices.csv  \u001b[01;36m'school n institutes'\u001b[0m@   Waterbodies.csv\n",
            " \u001b[01;36mforest\u001b[0m@          mountain.csv      street.csv\n",
            " forest.csv       \u001b[01;36mmountains\u001b[0m@        \u001b[01;36mstreets\u001b[0m@\n",
            "\u001b[01;36m'govt offices'\u001b[0m@   ocr.png           \u001b[01;36mWaterbodies\u001b[0m@\n"
          ],
          "name": "stdout"
        }
      ]
    },
    {
      "cell_type": "code",
      "metadata": {
        "id": "sE1inMmDvwMS",
        "colab_type": "code",
        "colab": {
          "base_uri": "https://localhost:8080/",
          "height": 919
        },
        "outputId": "270bfafd-7719-48ad-9e1d-161622e689fe"
      },
      "source": [
        "!sudo apt install tesseract-ocr\n",
        "!pip install pytesseract"
      ],
      "execution_count": null,
      "outputs": [
        {
          "output_type": "stream",
          "text": [
            "Reading package lists... Done\n",
            "Building dependency tree       \n",
            "Reading state information... Done\n",
            "The following package was automatically installed and is no longer required:\n",
            "  libnvidia-common-440\n",
            "Use 'sudo apt autoremove' to remove it.\n",
            "The following additional packages will be installed:\n",
            "  tesseract-ocr-eng tesseract-ocr-osd\n",
            "The following NEW packages will be installed:\n",
            "  tesseract-ocr tesseract-ocr-eng tesseract-ocr-osd\n",
            "0 upgraded, 3 newly installed, 0 to remove and 35 not upgraded.\n",
            "Need to get 4,795 kB of archives.\n",
            "After this operation, 15.8 MB of additional disk space will be used.\n",
            "Get:1 http://archive.ubuntu.com/ubuntu bionic/universe amd64 tesseract-ocr-eng all 4.00~git24-0e00fe6-1.2 [1,588 kB]\n",
            "Get:2 http://archive.ubuntu.com/ubuntu bionic/universe amd64 tesseract-ocr-osd all 4.00~git24-0e00fe6-1.2 [2,989 kB]\n",
            "Get:3 http://archive.ubuntu.com/ubuntu bionic/universe amd64 tesseract-ocr amd64 4.00~git2288-10f4998a-2 [218 kB]\n",
            "Fetched 4,795 kB in 0s (28.7 MB/s)\n",
            "debconf: unable to initialize frontend: Dialog\n",
            "debconf: (No usable dialog-like program is installed, so the dialog based frontend cannot be used. at /usr/share/perl5/Debconf/FrontEnd/Dialog.pm line 76, <> line 3.)\n",
            "debconf: falling back to frontend: Readline\n",
            "debconf: unable to initialize frontend: Readline\n",
            "debconf: (This frontend requires a controlling tty.)\n",
            "debconf: falling back to frontend: Teletype\n",
            "dpkg-preconfigure: unable to re-open stdin: \n",
            "Selecting previously unselected package tesseract-ocr-eng.\n",
            "(Reading database ... 144487 files and directories currently installed.)\n",
            "Preparing to unpack .../tesseract-ocr-eng_4.00~git24-0e00fe6-1.2_all.deb ...\n",
            "Unpacking tesseract-ocr-eng (4.00~git24-0e00fe6-1.2) ...\n",
            "Selecting previously unselected package tesseract-ocr-osd.\n",
            "Preparing to unpack .../tesseract-ocr-osd_4.00~git24-0e00fe6-1.2_all.deb ...\n",
            "Unpacking tesseract-ocr-osd (4.00~git24-0e00fe6-1.2) ...\n",
            "Selecting previously unselected package tesseract-ocr.\n",
            "Preparing to unpack .../tesseract-ocr_4.00~git2288-10f4998a-2_amd64.deb ...\n",
            "Unpacking tesseract-ocr (4.00~git2288-10f4998a-2) ...\n",
            "Setting up tesseract-ocr-osd (4.00~git24-0e00fe6-1.2) ...\n",
            "Setting up tesseract-ocr-eng (4.00~git24-0e00fe6-1.2) ...\n",
            "Setting up tesseract-ocr (4.00~git2288-10f4998a-2) ...\n",
            "Processing triggers for man-db (2.8.3-2ubuntu0.1) ...\n",
            "Collecting pytesseract\n",
            "  Downloading https://files.pythonhosted.org/packages/1d/d8/521db389ff0aae32035bfda6ed39cb2c2e28521c47015f6431f07460c50a/pytesseract-0.3.4.tar.gz\n",
            "Requirement already satisfied: Pillow in /usr/local/lib/python3.6/dist-packages (from pytesseract) (7.0.0)\n",
            "Building wheels for collected packages: pytesseract\n",
            "  Building wheel for pytesseract (setup.py) ... \u001b[?25l\u001b[?25hdone\n",
            "  Created wheel for pytesseract: filename=pytesseract-0.3.4-py2.py3-none-any.whl size=13431 sha256=2659425364a9d9f02ac74795027002a85eec1c0800c536cc9147f2cd5b9e395b\n",
            "  Stored in directory: /root/.cache/pip/wheels/63/2a/a0/7596d2e0a73cf0aeffd6f6170862c4e73f3763b7827e48691a\n",
            "Successfully built pytesseract\n",
            "Installing collected packages: pytesseract\n",
            "Successfully installed pytesseract-0.3.4\n"
          ],
          "name": "stdout"
        }
      ]
    },
    {
      "cell_type": "code",
      "metadata": {
        "id": "ajq1OCh59j0q",
        "colab_type": "code",
        "colab": {}
      },
      "source": [
        "import pytesseract\n",
        "import sys\n",
        "import os\n",
        "import glob\n",
        "import re\n",
        "import numpy as np\n",
        "from PIL import Image\n",
        "import cv2\n"
      ],
      "execution_count": null,
      "outputs": []
    },
    {
      "cell_type": "code",
      "metadata": {
        "id": "9Azbg7TZw1sh",
        "colab_type": "code",
        "colab": {}
      },
      "source": [
        "pytesseract.pytesseract.tesseract_cmd = (\n",
        "    r'/usr/bin/tesseract'\n",
        ")"
      ],
      "execution_count": null,
      "outputs": []
    },
    {
      "cell_type": "code",
      "metadata": {
        "id": "QDt45p42fYGJ",
        "colab_type": "code",
        "colab": {}
      },
      "source": [
        "im = Image.open(img_path)\n",
        "im.save(\"ocr.png\", dpi=(300, 300))\n",
        "ima= cv2.imread(\"ocr.png\")\n",
        "ima = cv2.resize(ima, None, fx=2, fy=2, interpolation=cv2.INTER_CUBIC)\n",
        "#retval, threshold = cv2.threshold(image,127,255,cv2.THRESH_BINARY)\n",
        "text = pytesseract.image_to_string(ima)\n",
        "i+=1\n",
        "result.append((i,text,5))"
      ],
      "execution_count": null,
      "outputs": []
    },
    {
      "cell_type": "code",
      "metadata": {
        "id": "TkLvKfgqfYNO",
        "colab_type": "code",
        "colab": {}
      },
      "source": [
        ""
      ],
      "execution_count": null,
      "outputs": []
    },
    {
      "cell_type": "code",
      "metadata": {
        "id": "KsKGvriEfYRj",
        "colab_type": "code",
        "colab": {}
      },
      "source": [
        ""
      ],
      "execution_count": null,
      "outputs": []
    },
    {
      "cell_type": "code",
      "metadata": {
        "id": "Ey5Vcf-WornT",
        "colab_type": "code",
        "colab": {}
      },
      "source": [
        "result = []\n",
        "i=0\n",
        "folder='school n institutes'"
      ],
      "execution_count": null,
      "outputs": []
    },
    {
      "cell_type": "code",
      "metadata": {
        "id": "WOd3ByWk8eDn",
        "colab_type": "code",
        "colab": {}
      },
      "source": [
        "for filename in os.listdir(folder):\n",
        "  img_path = os.path.join(folder,filename)\n",
        "  im = Image.open(img_path)\n",
        "  im.save(\"ocr.png\", dpi=(300, 300))\n",
        "  ima= cv2.imread(\"ocr.png\")\n",
        "  ima = cv2.resize(ima, None, fx=2, fy=2, interpolation=cv2.INTER_CUBIC)\n",
        "  #retval, threshold = cv2.threshold(image,127,255,cv2.THRESH_BINARY)\n",
        "  text = pytesseract.image_to_string(ima)\n",
        "  i+=1\n",
        "  result.append((i,text,5))"
      ],
      "execution_count": null,
      "outputs": []
    },
    {
      "cell_type": "code",
      "metadata": {
        "id": "YX2pnAkcw8sf",
        "colab_type": "code",
        "colab": {
          "base_uri": "https://localhost:8080/",
          "height": 55
        },
        "outputId": "7fca12cd-b807-4a3c-df37-478b40933a76"
      },
      "source": [
        "print(result)"
      ],
      "execution_count": null,
      "outputs": [
        {
          "output_type": "stream",
          "text": [
            "[(1, '9\\nWidioe\\n{) Metella Road M4\\nmf Public School Eas}', 5), (2, '', 5), (3, '', 5), (4, '', 5), (5, '4” M ~ e\\'s\\n.\\n\\nCMe ae\\na el\\n\\n=\" 7 UNL aROlU NDMP ew 13121 34\\nMERCY HEALTH CENTER\\n\\noa', 5), (6, 'ati\\n\\nih ae\\n\\nrere mit\\nbaa Ha\\n\\nif ih a\\nBes ee\\nHue TE\\nna\\nFt\\n\\nA PTL\\nse\\nFALL\\nThan\\niffmegyer\\nsi ne We\\n\\n         \\n\\net)\\n\\n \\n\\neee', 5), (7, '', 5), (8, '', 5), (9, 'Pk se a\\nGovernment of Pakistan\\nMinistry of Capital Administration & Development\\n\\nBaa ee\\neee\\n\\nPlot No. 450, St. No. 57, 1-8/3 Islamabad', 5), (10, 'A { f f\\n\\ni 8 BNG INTERNATIONAL SCHOOL\\nPre 3 _\\n\\n   \\n \\n \\n   \\n   \\n \\n\\n  \\n\\nAdmission Open 2015-16“\\n\\nie Call: 9458871555 / 666\\n\\npoeaysreene', 5), (11, '. Raa ¥\\n\\nVj ee ve\\nsate\\n9625\\n\\nCoa', 5), (12, '', 5), (13, '', 5), (14, '', 5), (15, '{YDAUMERE EAST |\\nUBLIC SCHOOL |\\n\\n  \\n\\nWelcome!\\n\\nSTUDENT & PARENT |“\\n] ENTRY\\n\\nbg nay Nona 05 ae\\nOe ES eS', 5), (16, '', 5), (17, '', 5), (18, 'CAUTION\\n\\nearl', 5), (19, 'Te Lada\\n\\nWelcome to\\n\\nBrookfield aT Tela\\nYale)\\n\\nbetel\\nPie Lee)\\na —', 5), (20, '', 5), (21, 'D.Pharm, Goes\\nCode: 2753\\n\" 0 Sees', 5), (22, '', 5), (23, '', 5), (24, '‘ IN Pty com Comat Vf:\\n) ty', 5), (25, '', 5), (26, '', 5), (27, '', 5), (28, '', 5), (29, '', 5), (30, 'Cha :\\n\\nnew Delhi)\\n\\ncess\\nTAL LASSE\\n\\nFirst Time in Our City\\nwth Experienced FAC Iti\\n\\naie SCHOOL Ue\\n\\n   \\n \\n\\nA Complete\\nRegistration is Going On\\n\\nfor the academic session 9018-19 7\\n\\nFor Nur. t0 Std. VIF\\n\\ni\\nakhisarai_ +91 9297162122 929716', 5), (31, 'ity Approved Courses (UGC, AICTE. DEB) ©\\n[M.B.A.|B.B.A.|M.C.A.|B.C.A.\\n.Com.|M.Com.|0,Pharma| M.Phil.\\n\\nE=.\\n\\nSORES)\\nCee R eer e)', 5), (32, 'WYER arr) tr Sohal é\\n] of HL tA\\n\\nwhere happy children flourish', 5), (33, '', 5), (34, 'cc\\n\\noa\\n\\n5 aly\\n1 Longwell Green\\n\\nPrimary School\\n\\nCeo eee od TT\\nPtr eee\\n- SS\\n\\n \\n    \\n    \\n\\nah\\nslid i fa .\\nJL Leafs}\\nTne = 7\\nSIGNETSIGNSLTD', 5), (35, 'Bh cae } Ry\\nDua', 5), (36, '', 5), (37, '', 5), (38, 'Aslacton\\n\\nPrimary. School', 5), (39, 'eo Te\\n\\nBUSINES', 5), (40, '', 5), (41, 'EB alamy stock photo', 5), (42, 'b min', 5), (43, '', 5), (44, 'The\\n\\n| School Of Industrial and Fine\\n\\npO. Box 7062 Kampate, Ug2! a\\n- 41 - 531423 1\\n\\nArty\\n\\n[a Bieapiees aie)', 5), (45, '', 5), (46, '', 5), (47, 'Pea\\nChe rae\\n\\nrt ak\\n\\npeer r tT)', 5), (48, 'CAUTION\\n\\nearl', 5), (49, 'A\\n\\nPUBL!\\n\\nree\\n\\nPry net\\n\\n   \\n\\n‘ ae\\nFen Zob anion\\n\\nc Sm', 5), (50, 'IRS\\n_ AIGH schoo,', 5), (51, '', 5), (52, '', 5), (53, 'TRINITY “=\\nLUTHERAN COLLEGE', 5), (54, '', 5), (55, 'Pbierelsy ert ere)\\nFORGIRES\\n\\n. De\\nel hd Ry\\n\\n    \\n\\n    \\n        \\n   \\n   \\n\\nCen eto\\nag\\neet\\n\\nes ea hy\\nMAIN ENTRANCE Ed i\\nSe: Sica Sorensen', 5), (56, '', 5), (57, '', 5), (58, '', 5), (59, '', 5), (60, 'sl\\nSree\\nFrees Peete \\\\\\n\\n \\n\\nEI alamy stock photo', 5), (61, 'aA ons', 5), (62, '', 5), (63, 'A oe\\neile Bere Te', 5), (64, '', 5), (65, '', 5), (66, '', 5), (67, 'hs Ve\\nNA\\n\\n|', 5), (68, '', 5), (69, 'Scoil losaf National School\\n\\nSatteaarts: N.S', 5), (70, 'HIEF\\nOGORI\\nae', 5), (71, 'MAKES YOUR LIFE Giosigus\\n\\nNaisdee oar), Sinan\\n\\n_ as\\nn2ienduen sn,', 5), (72, '', 5), (73, 'ceurnas AGRICULTURE ae\\nwerveasiTy', 5), (74, '', 5), (75, '', 5), (76, 'St Paul’s C of EVC\\n\\nJuni\\n\\na eee\\n\\n      \\n\\nComal AlN', 5), (77, '', 5), (78, '> ae\\n\\n \\n\\neste\\nLeet Minatetta\\nenn Away\\n\\n\\\\ Recs oncecn\\nVW ccgeoles', 5), (79, '', 5), (80, '', 5), (81, 'ot ee\\n\\nBilLGic genet\\nPoth and bs Nb a\\nliesiiol |,\\n\\n: aye ah', 5), (82, 'arts IX, X, XI, XI For All Subjects', 5), (83, '', 5), (84, '#\\n\\nLOBAL INSTITGTE OF 4\\nNOLOGY & MANAGEMENT «qo', 5), (85, '|\\n7 SUPREME-GOWre\\nSi aA\\n\\n    \\n\\ninstructors Super 30th of Pane\\nree ed et ea', 5), (86, '', 5), (87, '', 5), (88, 'a\\nTt\\n\\nae\\nte BcApech\\n“pale ee =\\n: fee', 5), (89, '', 5), (90, 'Bl a —L\\nYOO as m\\n\\nCE COMPUTER\\nhae a=\\n\\n\\\\ KTaO IK iM\\nBR SSO\\n\\n \\n\\n \\n\\nee\\na\\n\\n \\n\\ny\\n\\n| By oe my A A QS eer — A »\\n\\n; \\\\\\'/ i j C ( fa : } iA © &) QO\" ‘A L2AOO A) = 2\\n\\n\\\\ rh { a Ae, ; a\\n\\n4 H | x 4 | [ | a | i) mae \\\\ a) fe: 1@\\\\ok } —— | 7\\n= aS | ws s ww > MY\\n\\n— ae N\\n\\noS\\nGAISINA WAGAR BAGU , OPP VIUAY NAGAR BY PASSROAD, CHECK POST - 9871708182 ba\\nell atban S =\\nCee ae =\\nINSTITUTE ~\\n\\nANSE.\\ny\\nf\\n\\nPER Tee\\n\\n5 |\\nY\\n\\nosc: (SM oe ce CorelDraw |\\n: Le Cur) Cd\\n\\nnas\\n| eee\\n\\n    \\n\\nA ae ee ea Merk', 5), (91, '', 5), (92, 'INDIAN INSTITUTE OF”\\n| MANAGEMENT AND\\nTECHNICAL EDUCATION', 5), (93, 'SAL Ra\\n\\nX Gi\\nGOROKA ue. AAI\\nPH (675) 732 2800\\n(675) 73Z 198\\nGime ora-PS\\n\\nWIE ‘BA\\nSave’ Tambui = MAI General @ Phen Ord-PS', 5), (94, 'a\\n\\n“> SOFT-TECH GLOBAL\\nLn\\n\\nDIPLOMA COURSE\\n*PGOCA\\n\\n \\n    \\n \\n     \\n    \\n\\n \\n \\n\\n  \\n\\n»OCA\\n>Hardware &\\n\\nNetworking\\n4, Opp. Avante', 5), (95, '. A tg\\n\\narea', 5), (96, '', 5), (97, '', 5), (98, '', 5), (99, 'INSTIFUTE\\n99986-5282!', 5), (100, 'INSTITUTE OF ENVIRONMENT\\n& NATURAL RESOURCES\\n\\nP.O. Box 7062/7298\\nKampala Uganda Phone: 256-41-530135 / 533462\\n\\nTelefax: 256-41-530134 E-mail: muienr@muienr.mak.ac.ug\\n\\n \\n\\na rae ee oe <apehnueen', 5), (101, 'Welcome to\\n\\neT\\nJ University College Hospital\\n\\n   \\n\\nMain Hospital ro\\nSeen =\\nEGA Wing es\\n» HTD Mortimer Market >\\nUG Etdratt leva S\\n\\nCancer Centre\\n\\nInstitute of Sport,\\na Tralee Ln (k=) ha)\\n170 LO ey Court Road\\n\\nwww.alamy.com - ESMKEP', 5), (102, 'INSTITUTE OF ENVIRONMENT\\n& NATURAL RESOURCES\\n\\nP.O. Box 7062/7298\\nKampala Uganda Phone: 256-41-530135 / 533462\\n\\nTelefax: 256-41-530134 E-mail: muienr@muienr.mak.ac.ug\\n\\n \\n\\na rae ee oe <apehnueen', 5), (103, 'Tu pine\\n\\n \\n\\nEE} alamy stock photo', 5), (104, 'www.alamy.com - WW4G9C', 5), (105, 'I)\\n\\na Py\\n\\nESA\\n\\ni\\n\\n.\\n. a | a\\n} Bo hed\\n\\n \\n\\n=\\n|\\n\\n  \\n\\n¢ cay ¥ J\\nFCCNOYV TMH ANTH ATA =~ AMI\\nLInVWIER T ti 1 a] -— TANDARD\\n= ih at — f on tema tn fon om 5\\n. if FF 7LJ| Fo VT LY | KE o 1 / F HILLS ROAL NiO RO\\na bey, -\\n\\n_ = p > 4 a0 .\\nJa i Si “304 “ og', 5), (106, 'i\\n\\nNew Hall School\\n\\nCatholic Late (Sorento ase te\\n\\nBoarding (7-18) & Day (3-18)\\n\\nPOI BEE pas} lta red perkt g', 5), (107, 'is Wit ry\\nm7\\n=\\n\\nmy\\nVie\\nht\\non\\nwee Ko\\neee tan\\n\\noes\\nPods 2h\\n\\nZ ay’\\n\\nCe.\\n\\nee\\n\\nMets\\n\\npECTUS CONTACT: =\\n01861 | 7308365893 |\\n\\nr\\n\\nph\\n\\nPXOAT8\\nwww.alamy.com', 5), (108, '', 5), (109, 'L @D j Vig! ishi\\n\\nAGE\\n\\n[ eee OF ea 4\\n\\n. ma ?—T rm nnn\\n\\n“1a am arent wii', 5), (110, '', 5), (111, '', 5), (112, '', 5), (113, 'Z\\na\\na\\n4\\n3\\n4\\n8', 5), (114, '', 5), (115, '', 5), (116, '', 5), (117, '', 5), (118, 'rR\\nOVERNMENT ENGINEERING COLLEGE paL Anes', 5), (119, '', 5), (120, 'BALAI TECHNICAL CLS, EUR\\n\\nann Tait\\ni i reearie m\\nMAL ae aM', 5), (121, '(Recognised by Department of Mea ere.)\\n: Affiliated to Barkatullah University, 5) Ye) 1\\n\\nra\\n\\n \\n\\n \\n\\n£ \"\\nPace hae ete\\n\\n \\n\\n~\\n\\npo et tae SAIS SBOE a chase Toate pn\\nie\\n\\n+', 5), (122, 'Loe\\n\\npee\\n\\nee i a\\n\\nfede ea ae IE\\ni r i', 5), (123, '“TEER ERE RL ES CPT 77777', 5), (124, '0] Tore edie fireeitone\\nCONTIAL VRIVERAITY OF Qu pane\\n\\n=o\\na\\n\\nmo\\n\\nvith az AcREMIC BLOCK\\n\\n \\n\\nMWe\\nUl Um', 5), (125, '', 5), (126, '', 5), (127, '', 5), (128, '', 5), (129, '', 5), (130, '_—\\n=\\n\\n: a\\n\\nMeee ir = Trt\\nrer :\\n\\n, BD EE cc\\n“SAB Oe en a', 5), (131, '', 5), (132, 'i\\nteat...‘ | |\\nTULL | Tag', 5), (133, '', 5), (134, '', 5), (135, '', 5), (136, 'iin 6 0m & alte\\nwi ff |e | HF \" J!', 5), (137, '', 5), (138, '', 5), (139, '', 5), (140, '', 5), (141, '', 5), (142, \"ALL INDIA SHR! SHIVAJI MEMORIAL SOCIETY'S |\\nfie COLLEGE OF ENGINEERING | a\", 5), (143, '', 5), (144, 'RA\\n\\nCERO ECU TELE TTETCTNT', 5), (145, '_—_\\n\\n     \\n\\nGUAR ay\\nTECUNOLOOIbA,\\nUNIVERSITY', 5), (146, '', 5), (147, '', 5), (148, '', 5), (149, '', 5), (150, '', 5), (151, '', 5), (152, '', 5), (153, '', 5), (154, '~~\\n\\nJAIPUR DEMTAL COLLEGE', 5), (155, '', 5), (156, 'eR a he | CT: iro 0 1]\\n\\n \\n\\nfa\\nPe eee 2 ea', 5), (157, '', 5), (158, '', 5), (159, '', 5), (160, 'neat DISS,\\nOAs dds. ere', 5), (161, '”\\n\\neas', 5), (162, '', 5), (163, 'Re a ee\\na', 5), (164, '', 5), (165, '', 5), (166, '', 5), (167, 'ESTD.1964\\nPRIENTAL COLLEGE\\n\\nSITY, PATNA - 800008\\n\\nsc', 5), (168, 'eer t=\\n\\nso\\nkel wane\\n\\nre eke |', 5), (169, '', 5), (170, ': (MOULN INSTITUTE OF INFORMATION TECHNOLOGY\\nSociety)\\n\\nBHAGAL PUR ~813210', 5), (171, '', 5), (172, '', 5), (173, '', 5), (174, '=\\nwm ii\\ni i ai iii\\n\\nOpa:\\n7\\n\\nmA ae ge ||', 5), (175, '', 5), (176, 'npn OES =\\naoe MARUTIDRIVING SCHOOL M4 S\\\\SUSUK', 5), (177, 'STITUTE OF MEDICAL scuNCcES\\n\\nBHus', 5), (178, '', 5), (179, '', 5), (180, '', 5), (181, 'Rimi hy aren', 5), (182, '— TEALEDUCA EDUCATION SOCIETY FOE', 5), (183, '', 5), (184, '', 5), (185, '', 5), (186, 'Abasaheb Garware College for MicroBiology', 5), (187, '', 5), (188, '', 5), (189, 'ea\\nSe CAN yi\\nSAA Sa\\n\\ni} PRS', 5), (190, '& VIDYA BHAVAN COLLEGE OF €\\n| J', 5), (191, 'ret ies\\n\\nSua d\\n\\nMANAGEMENT', 5), (192, '', 5), (193, '', 5), (194, 'SMT. KASHIBAI NAVALE w EDICAL COLLEGE 7', 5), (195, 'Kisan Law College\\n\\nint ae i i i\\n=e E —\\n\\na |', 5), (196, '>i\\n\\nMM\\nBDICALGCO\\n\\n  \\n\\nrenal', 5), (197, 'Lit te\\n\\nSines\\n\\nTECHN\\ncD)', 5), (198, 'ie} LAW COLLEGE DURGAPUR\\n\\n \\n\\na apa', 5), (199, '', 5), (200, '', 5), (201, '', 5), (202, '', 5), (203, '', 5), (204, '', 5), (205, 'RUHS Results 2019 Released B.Sc Nursing, MBBS Exam', 5), (206, '', 5), (207, '', 5), (208, \"is ——— SS INSTITUTE OF POLYTECHNIC\\nes | | ' '\", 5), (209, '', 5), (210, 'BURSTS', 5), (211, 'SS LLEGE\\n\\nsrry ree 97 oF: m\\n\\na Ulta J ‘nie ROR SURE\\n\\n \\n \\n\\n= ee Fu', 5), (212, '', 5)]\n"
          ],
          "name": "stdout"
        }
      ]
    },
    {
      "cell_type": "code",
      "metadata": {
        "id": "pAS3XMzf7v7e",
        "colab_type": "code",
        "colab": {}
      },
      "source": [
        "import csv\n",
        "#persons=[('Lata',11),('Anil',11),('John',11)]\n",
        "csvfile=open('AcademicInsti.csv','w', newline='')\n",
        "obj=csv.writer(csvfile)\n",
        "for person in result:\n",
        "    obj.writerow(person)\n",
        "csvfile.close()\n"
      ],
      "execution_count": null,
      "outputs": []
    },
    {
      "cell_type": "code",
      "metadata": {
        "id": "74Xyd6826s0W",
        "colab_type": "code",
        "colab": {}
      },
      "source": [
        ""
      ],
      "execution_count": null,
      "outputs": []
    }
  ]
}